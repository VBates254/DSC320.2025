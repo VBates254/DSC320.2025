{
 "cells": [
  {
   "cell_type": "code",
   "execution_count": 1,
   "id": "4c5404d0-137c-4487-9df3-2248f3879a06",
   "metadata": {},
   "outputs": [
    {
     "name": "stdout",
     "output_type": "stream",
     "text": [
      "Ensemble Accuracy (15 models @ 63%): 0.8513\n"
     ]
    }
   ],
   "source": [
    "# Week 9 Problem 3 - Binomal Distribution\n",
    "# 3.a - If an ensemble model is composed of 15 individual models that each have 63% accuracy, \n",
    "# what is the ensemble model accuracy?\n",
    "\n",
    "from scipy.stats import binom\n",
    "\n",
    "# Parameters\n",
    "n_models = 15\n",
    "individual_acc = 0.63\n",
    "\n",
    "# Ensemble accuracy = P(8 correct predictions out of 15)\n",
    "ensemble_acc = sum([binom.pmf(k, n_models, individual_acc) for k in range(8, 16)])\n",
    "print(f\"Ensemble Accuracy (15 models @ 63%): {ensemble_acc:.4f}\")\n"
   ]
  },
  {
   "cell_type": "code",
   "execution_count": 2,
   "id": "cad78760-01ec-427c-a831-b20b0271de02",
   "metadata": {},
   "outputs": [
    {
     "name": "stdout",
     "output_type": "stream",
     "text": [
      "Minimum individual accuracy for 95% ensemble: 71%\n"
     ]
    }
   ],
   "source": [
    "# 3.b - What would the accuracy of the 15 individual models need to be in order for the ensemble model \n",
    "# to have 95% accuracy? Find the smallest whole number percentage so this is satisfied.\n",
    "\n",
    "target_acc = 0.95\n",
    "required_acc = None\n",
    "\n",
    "for acc in range(63, 101):  # start at 63% and go up to 100% in intervals\n",
    "    prob = sum([binom.pmf(k, n_models, acc/100) for k in range(8, 16)])\n",
    "    if prob >= target_acc:\n",
    "        required_acc = acc\n",
    "        break\n",
    "\n",
    "print(f\"Minimum individual accuracy for 95% ensemble: {required_acc}%\")"
   ]
  },
  {
   "cell_type": "code",
   "execution_count": 3,
   "id": "cc8e26f0-5726-4dee-b968-2ff9067bee11",
   "metadata": {},
   "outputs": [
    {
     "name": "stdout",
     "output_type": "stream",
     "text": [
      "Minimum odd number of models for 95% ensemble accuracy: 39\n"
     ]
    }
   ],
   "source": [
    "# 3.c - If each individual model has 63% accuracy, how many individual models are needed for the \n",
    "# ensemble model to have 95% accuracy? \n",
    "# Find the smallest odd number of models (so there is a clear majority), so that this is satisfied.\n",
    "required_models = None\n",
    "individual_acc = 0.63\n",
    "\n",
    "for n in range(15, 301, 2):  # start from 15, odd numbers\n",
    "    majority = n // 2 + 1\n",
    "    ensemble_acc = sum([binom.pmf(k, n, individual_acc) for k in range(majority, n+1)])\n",
    "    if ensemble_acc >= 0.95:\n",
    "        required_models = n\n",
    "        break\n",
    "\n",
    "print(f\"Minimum odd number of models for 95% ensemble accuracy: {required_models}\")"
   ]
  },
  {
   "cell_type": "code",
   "execution_count": null,
   "id": "fba20d5c-8f95-43f9-9f5e-31c55f27affa",
   "metadata": {},
   "outputs": [],
   "source": []
  }
 ],
 "metadata": {
  "kernelspec": {
   "display_name": "Python 3 (ipykernel)",
   "language": "python",
   "name": "python3"
  },
  "language_info": {
   "codemirror_mode": {
    "name": "ipython",
    "version": 3
   },
   "file_extension": ".py",
   "mimetype": "text/x-python",
   "name": "python",
   "nbconvert_exporter": "python",
   "pygments_lexer": "ipython3",
   "version": "3.11.4"
  }
 },
 "nbformat": 4,
 "nbformat_minor": 5
}
