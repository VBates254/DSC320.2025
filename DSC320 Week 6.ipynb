{
 "cells": [
  {
   "cell_type": "code",
   "execution_count": 3,
   "id": "b0da7b67-6bfe-4c23-9f82-0491be2d4e35",
   "metadata": {},
   "outputs": [
    {
     "name": "stdout",
     "output_type": "stream",
     "text": [
      "Matrix A [[ 1 -2  3  7]\n",
      " [ 2  1  1  4]\n",
      " [-3  2 -2 10]]\n",
      "Matrix B [[ 0  1 -3 -2]\n",
      " [10 -1  2 -3]\n",
      " [ 5  1 -1  4]]\n",
      "Matrix C [[ 4  0 -2  3]\n",
      " [ 3  6  9  7]\n",
      " [ 2  2  5  1]\n",
      " [ 9  4  6 -2]]\n"
     ]
    }
   ],
   "source": [
    "# Week 6\n",
    "# 1.a - Enter each of the matrices A, B, and C as Numpy array. \n",
    "import numpy as np\n",
    "\n",
    "# Matrix A\n",
    "A = np.array([\n",
    "    [1, -2, 3, 7],\n",
    "    [2, 1, 1, 4],\n",
    "    [-3, 2, -2, 10]\n",
    "])\n",
    "\n",
    "# Matrix B\n",
    "B = np.array([\n",
    "    [0, 1, -3, -2],\n",
    "    [10, -1, 2, -3],\n",
    "    [5, 1, -1, 4]\n",
    "])\n",
    "\n",
    "# Matrix C\n",
    "C = np.array([\n",
    "    [4, 0, -2, 3],\n",
    "    [3, 6, 9, 7],\n",
    "    [2, 2, 5, 1],\n",
    "    [9, 4, 6, -2]\n",
    "])\n",
    "\n",
    "# check\n",
    "print(\"Matrix A\", A)\n",
    "print(\"Matrix B\", B) \n",
    "print(\"Matrix C\", C)"
   ]
  },
  {
   "cell_type": "code",
   "execution_count": 5,
   "id": "2b179aa0-a2af-4f2a-85ec-aef3c6a90c78",
   "metadata": {},
   "outputs": [
    {
     "name": "stdout",
     "output_type": "stream",
     "text": [
      "Dimensions of Matrix A: (3, 4)\n",
      "Dimensions of Matrix B: (3, 4)\n",
      "Dimensions of Matrix C: (4, 4)\n"
     ]
    }
   ],
   "source": [
    "# 1.b - What are the dimensions of each of the matrices A, B, and C? \n",
    "# Display these using Python code. \n",
    "\n",
    "print(\"Dimensions of Matrix A:\", A.shape)\n",
    "print(\"Dimensions of Matrix B:\", B.shape)\n",
    "print(\"Dimensions of Matrix C:\", C.shape)"
   ]
  },
  {
   "cell_type": "code",
   "execution_count": 12,
   "id": "b93f10b4-32d0-4bbc-a02d-68b9b51219c5",
   "metadata": {},
   "outputs": [
    {
     "name": "stdout",
     "output_type": "stream",
     "text": [
      "A + B is defined:\n",
      " [[ 1 -1  0  5]\n",
      " [12  0  3  1]\n",
      " [ 2  3 -3 14]]\n",
      "Result of AB:\n",
      " [[  0  -2  -9 -14]\n",
      " [ 20  -1   2 -12]\n",
      " [-15   2   2  40]]\n",
      "AC is not defined: operands could not be broadcast together with shapes (3,4) (4,4)  The shapes don't match\n",
      "C Transposed: [[ 4  3  2  9]\n",
      " [ 0  6  2  4]\n",
      " [-2  9  5  6]\n",
      " [ 3  7  1 -2]]\n"
     ]
    }
   ],
   "source": [
    "# 3 - Determine if each of the following matrix operations is defined. If it is defined, calculate the result \n",
    "# using Python. If it is not defined, explain why it is not defined. \n",
    "\n",
    "# a) A+B\n",
    "try:\n",
    "    result = A + B\n",
    "    print(\"A + B is defined:\\n\", result)\n",
    "except ValueError as e:\n",
    "    print(\"A + B is not defined:\", e)\n",
    "# b) AB\n",
    "try:\n",
    "    result_ab = A * B\n",
    "    print(\"Result of AB:\\n\", result_ab)\n",
    "except ValueError as e:\n",
    "    print(\"AB is not defined:\", e)\n",
    "# c) AC\n",
    "try:\n",
    "    result_ac = A * C\n",
    "    print(\"Result of AC:\\n\", result_ac)\n",
    "except ValueError as e:\n",
    "    print(\"AC is not defined:\", e,\n",
    "         \"The shapes don't match\")\n",
    "# d) C^T (transpose)\n",
    "\n",
    "CT = C.T\n",
    "print(\"C Transposed:\", CT)"
   ]
  },
  {
   "cell_type": "code",
   "execution_count": 3,
   "id": "e90edd8b-4106-4b7d-ab63-78066181eba7",
   "metadata": {},
   "outputs": [],
   "source": [
    "# 2.a - I could not for the life of me get cv2 to work on my computer, so \n",
    "# I used something else to load the image. I think my computer just hates OpenCV\n",
    "from PIL import Image\n",
    "\n",
    "# Load the image \n",
    "img = Image.open(\"C:/Users/vampr/Desktop/week7_image.jpg\")\n",
    "\n",
    "# Display the image\n",
    "img.show()"
   ]
  },
  {
   "cell_type": "code",
   "execution_count": 7,
   "id": "04905753-7d3d-4848-a4b1-bdc8edffc22b",
   "metadata": {},
   "outputs": [
    {
     "name": "stdout",
     "output_type": "stream",
     "text": [
      "Image shape: (453, 600, 3)\n",
      "Resolution: 600 x 453\n",
      "The 3rd number in the image shape is for the channels, or colors. There is not a thrid number if the image is black and white\n"
     ]
    }
   ],
   "source": [
    "# 2.b & 2.c\n",
    "from PIL import Image\n",
    "import numpy as np\n",
    "\n",
    "# Load the image\n",
    "img = Image.open(\"C:/Users/vampr/Desktop/week7_image.jpg\")\n",
    "\n",
    "# Convert to NumPy array\n",
    "img_array = np.array(img)\n",
    "\n",
    "# Get shape (height, width, color channels)\n",
    "print(\"Image shape:\", img_array.shape)\n",
    "\n",
    "# resolution\n",
    "height, width = img_array.shape[:2]\n",
    "print(\"Resolution:\", width, \"x\", height)\n",
    "print(\"The 3rd number in the image shape is for the channels, or colors. There is not a thrid number if the image is black and white\")"
   ]
  },
  {
   "cell_type": "code",
   "execution_count": null,
   "id": "849f3815-57cb-4054-b5a4-a70a4fdd3049",
   "metadata": {},
   "outputs": [],
   "source": []
  }
 ],
 "metadata": {
  "kernelspec": {
   "display_name": "Python 3 (ipykernel)",
   "language": "python",
   "name": "python3"
  },
  "language_info": {
   "codemirror_mode": {
    "name": "ipython",
    "version": 3
   },
   "file_extension": ".py",
   "mimetype": "text/x-python",
   "name": "python",
   "nbconvert_exporter": "python",
   "pygments_lexer": "ipython3",
   "version": "3.11.4"
  }
 },
 "nbformat": 4,
 "nbformat_minor": 5
}
