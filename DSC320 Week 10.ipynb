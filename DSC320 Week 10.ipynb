{
 "cells": [
  {
   "cell_type": "code",
   "execution_count": 1,
   "id": "bc77a4bc-bead-47c2-bc20-50b8590684ff",
   "metadata": {},
   "outputs": [
    {
     "name": "stdout",
     "output_type": "stream",
     "text": [
      "(a) P(Process A | Defective) = 0.5172\n",
      "(b) P(Process C | Not Defective) = 0.1977\n"
     ]
    }
   ],
   "source": [
    "# Week 10\n",
    "# Part 1 \n",
    "# Given probabilities\n",
    "P_A = 0.5\n",
    "P_B = 0.3\n",
    "P_C = 0.2\n",
    "\n",
    "P_Def_A = 0.03\n",
    "P_Def_B = 0.02\n",
    "P_Def_C = 0.04\n",
    "\n",
    "P_NotDef_A = 1 - P_Def_A\n",
    "P_NotDef_B = 1 - P_Def_B\n",
    "P_NotDef_C = 1 - P_Def_C\n",
    "\n",
    "# Total probability of a defective card\n",
    "P_Def = P_Def_A * P_A + P_Def_B * P_B + P_Def_C * P_C\n",
    "\n",
    "# (a) Probability that a defective card came from Process A\n",
    "P_A_given_Def = (P_Def_A * P_A) / P_Def\n",
    "\n",
    "# Total probability of a non-defective card\n",
    "P_NotDef = P_NotDef_A * P_A + P_NotDef_B * P_B + P_NotDef_C * P_C\n",
    "\n",
    "# (b) Probability that a non-defective card came from Process C\n",
    "P_C_given_NotDef = (P_NotDef_C * P_C) / P_NotDef\n",
    "\n",
    "# Print results\n",
    "print(f\"(a) P(Process A | Defective) = {P_A_given_Def:.4f}\")\n",
    "print(f\"(b) P(Process C | Not Defective) = {P_C_given_NotDef:.4f}\")"
   ]
  },
  {
   "cell_type": "code",
   "execution_count": 3,
   "id": "051400ef-8c63-47c0-bf20-bb28bff3005a",
   "metadata": {},
   "outputs": [
    {
     "name": "stdout",
     "output_type": "stream",
     "text": [
      "Entropy of uniform distribution: 2.3219 bits\n",
      "Entropy of skewed distribution: 2.0464 bits\n"
     ]
    }
   ],
   "source": [
    "# Part 2 - Entropy\n",
    "import numpy as np\n",
    "\n",
    "def entropy(probabilities):\n",
    "    probabilities = np.array(probabilities)\n",
    "    # Filter out zero probabilities to avoid log(0)\n",
    "    probabilities = probabilities[probabilities > 0]\n",
    "    return -np.sum(probabilities * np.log2(probabilities))\n",
    "\n",
    "# Example to check it\n",
    "# Uniform distribution\n",
    "P_uniform = [0.2, 0.2, 0.2, 0.2, 0.2]\n",
    "\n",
    "# Skewed distribution\n",
    "P_skewed = [0.1, 0.4, 0.1, 0.3, 0.1]\n",
    "\n",
    "# Calculate entropy\n",
    "H_uniform = entropy(P_uniform)\n",
    "H_skewed = entropy(P_skewed)\n",
    "\n",
    "# Display results\n",
    "print(f\"Entropy of uniform distribution: {H_uniform:.4f} bits\")\n",
    "print(f\"Entropy of skewed distribution: {H_skewed:.4f} bits\")"
   ]
  },
  {
   "cell_type": "code",
   "execution_count": 5,
   "id": "a8d2d5ac-4445-446f-b5a8-3e23f26dcc4f",
   "metadata": {},
   "outputs": [
    {
     "name": "stdout",
     "output_type": "stream",
     "text": [
      "Entropy of X: 2.3219\n",
      "Entropy of Y: 2.0464\n",
      "X is bigger because it's uniform - every outcome is equally likely. Or Unlikely, depending on how you look at it.\n"
     ]
    }
   ],
   "source": [
    "# Part 3\n",
    "P_X = [0.2, 0.2, 0.2, 0.2, 0.2]\n",
    "P_Y = [0.1, 0.4, 0.1, 0.3, 0.1]\n",
    "\n",
    "H_X = entropy(P_X)\n",
    "H_Y = entropy(P_Y)\n",
    "\n",
    "print(f\"Entropy of X: {H_X:.4f}\")\n",
    "print(f\"Entropy of Y: {H_Y:.4f}\")\n",
    "print(\"X is bigger because it's uniform - every outcome is equally likely. Or Unlikely, depending on how you look at it.\")"
   ]
  },
  {
   "cell_type": "code",
   "execution_count": null,
   "id": "4f7a4ea7-be3d-4884-942d-b0a09e9397a3",
   "metadata": {},
   "outputs": [],
   "source": []
  }
 ],
 "metadata": {
  "kernelspec": {
   "display_name": "Python 3 (ipykernel)",
   "language": "python",
   "name": "python3"
  },
  "language_info": {
   "codemirror_mode": {
    "name": "ipython",
    "version": 3
   },
   "file_extension": ".py",
   "mimetype": "text/x-python",
   "name": "python",
   "nbconvert_exporter": "python",
   "pygments_lexer": "ipython3",
   "version": "3.11.4"
  }
 },
 "nbformat": 4,
 "nbformat_minor": 5
}
