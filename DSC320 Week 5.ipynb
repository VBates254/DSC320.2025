{
 "cells": [
  {
   "cell_type": "code",
   "execution_count": 2,
   "id": "3e723cc7-c211-4b60-99f0-6cbdbad9d42f",
   "metadata": {},
   "outputs": [
    {
     "name": "stdout",
     "output_type": "stream",
     "text": [
      "[0.6 0.8]\n"
     ]
    }
   ],
   "source": [
    "# Week 5\n",
    "# 1 - Build a Python function that takes in a vector (array) and normalizes it.\n",
    "import numpy as np\n",
    "\n",
    "def normalize_vector(vector):\n",
    "    vector = np.array(vector, dtype=float)  # float\n",
    "    norm = np.linalg.norm(vector)\n",
    "\n",
    "    if norm == 0:\n",
    "        return vector  # Avoid division by zero\n",
    "    return vector / norm\n",
    "\n",
    "# make sure it works\n",
    "v = [3, 4]\n",
    "normalized_v = normalize_vector(v)\n",
    "print(normalized_v)\n"
   ]
  },
  {
   "cell_type": "code",
   "execution_count": 4,
   "id": "6ffc7388-e53a-40fa-9b10-8be7a974d32a",
   "metadata": {},
   "outputs": [
    {
     "name": "stdout",
     "output_type": "stream",
     "text": [
      "[-1.34164079 -0.4472136   0.4472136   1.34164079]\n"
     ]
    }
   ],
   "source": [
    "# 2 - Build a Python function that takes in a vector (array) and standardizes it.\n",
    "import numpy as np\n",
    "\n",
    "def standardize_vector(vector):\n",
    "    vector = np.array(vector, dtype=float)\n",
    "    mean = np.mean(vector)\n",
    "    std_dev = np.std(vector)\n",
    "\n",
    "    if std_dev == 0:\n",
    "        return np.zeros_like(vector)  # Avoid division by zero\n",
    "    return (vector - mean) / std_dev\n",
    "\n",
    "# make sure it works\n",
    "v = [10, 20, 30, 40]\n",
    "standardized_v = standardize_vector(v)\n",
    "print(standardized_v)  "
   ]
  },
  {
   "cell_type": "code",
   "execution_count": 7,
   "id": "f7f8fbdf-13d3-48b1-ae51-0dfd214a8c2a",
   "metadata": {},
   "outputs": [
    {
     "name": "stdout",
     "output_type": "stream",
     "text": [
      "The dataset has 20640 rows.\n"
     ]
    }
   ],
   "source": [
    "# 3.a - How many rows does this data set have? \n",
    "import pandas as pd\n",
    "\n",
    "# file\n",
    "df = pd.read_csv(\"C:/Users/vampr/Desktop/calif_housing_data.csv\")\n",
    "\n",
    "# number of rows\n",
    "num_rows = len(df)\n",
    "print(f\"The dataset has {num_rows} rows.\")"
   ]
  },
  {
   "cell_type": "code",
   "execution_count": 12,
   "id": "7fdd0f9b-75b8-43e8-b60b-d9f8483a96d1",
   "metadata": {},
   "outputs": [
    {
     "name": "stdout",
     "output_type": "stream",
     "text": [
      "0        452600.0\n",
      "1        358500.0\n",
      "2        352100.0\n",
      "3        341300.0\n",
      "4        342200.0\n",
      "           ...   \n",
      "20635     78100.0\n",
      "20636     77100.0\n",
      "20637     92300.0\n",
      "20638     84700.0\n",
      "20639     89400.0\n",
      "Name: median_house_value, Length: 20640, dtype: float64\n"
     ]
    }
   ],
   "source": [
    "# 3.b - What is the target vector for your model? \n",
    "import pandas as pd\n",
    "\n",
    "# file\n",
    "df = pd.read_csv(\"C:/Users/vampr/Desktop/calif_housing_data.csv\")\n",
    "\n",
    "# target vector\n",
    "target_vector = df['median_house_value']\n",
    "print(target_vector)"
   ]
  },
  {
   "cell_type": "code",
   "execution_count": 17,
   "id": "e0b6a953-3017-4537-bae8-1bed0f450560",
   "metadata": {},
   "outputs": [
    {
     "name": "stdout",
     "output_type": "stream",
     "text": [
      "   total_bedrooms  bedrooms_to_total_households\n",
      "0           129.0                      0.006250\n",
      "1          1106.0                      0.053585\n",
      "2           190.0                      0.009205\n",
      "3           235.0                      0.011386\n",
      "4           280.0                      0.013566\n"
     ]
    }
   ],
   "source": [
    "# 3.c - Create a new feature by taking the total bedrooms divided by the number of households. What \n",
    "# does this new feature represent? \n",
    "import pandas as pd\n",
    "\n",
    "# file\n",
    "df = pd.read_csv(\"C:/Users/vampr/Desktop/calif_housing_data.csv\")\n",
    "\n",
    "# total beds & houses\n",
    "total_bedrooms = df['total_bedrooms'].sum()\n",
    "total_households = df['households'].count()\n",
    "\n",
    "# new feature\n",
    "df['bedrooms_to_total_households'] = df['total_bedrooms'] / total_households\n",
    "\n",
    "# results\n",
    "print(df[['total_bedrooms', 'bedrooms_to_total_households']].head())\n",
    "\n",
    "# This represents how many bedrooms there are compared to the overall dataset. It would be useful if\n",
    "# we wanted to see a house that maybe has more bedrooms than average "
   ]
  },
  {
   "cell_type": "code",
   "execution_count": 19,
   "id": "795dfd17-e565-4ad1-8b0c-b2aee909e0ed",
   "metadata": {},
   "outputs": [
    {
     "name": "stdout",
     "output_type": "stream",
     "text": [
      "   housing_median_age  median_income  bedrooms_to_entry_ratio\n",
      "0                  41         8.3252                 0.006250\n",
      "1                  21         8.3014                 0.053585\n",
      "2                  52         7.2574                 0.009205\n",
      "3                  52         5.6431                 0.011386\n",
      "4                  52         3.8462                 0.013566\n"
     ]
    }
   ],
   "source": [
    "# 3.d - Now, create a new data frame that has three features: the median age, median income, and the \n",
    "# new feature created in part (c). \n",
    "import pandas as pd\n",
    "\n",
    "# file\n",
    "df = pd.read_csv(\"C:/Users/vampr/Desktop/calif_housing_data.csv\")\n",
    "\n",
    "num_entries = df['households'].count()\n",
    "\n",
    "# new feature\n",
    "df['bedrooms_to_entry_ratio'] = df['total_bedrooms'] / num_entries\n",
    "\n",
    "# new df\n",
    "new_df = df[['housing_median_age', 'median_income', 'bedrooms_to_entry_ratio']]\n",
    "\n",
    "# results\n",
    "print(new_df.head())"
   ]
  },
  {
   "cell_type": "code",
   "execution_count": 21,
   "id": "0d256a08-20fe-4f10-b068-4688abb4311b",
   "metadata": {},
   "outputs": [
    {
     "name": "stdout",
     "output_type": "stream",
     "text": [
      "   housing_median_age  median_income  bedrooms_to_entry_ratio\n",
      "0            0.982143       2.344766                -0.970325\n",
      "1           -0.607019       2.332238                 1.348276\n",
      "2            1.856182       1.782699                -0.825561\n",
      "3            1.856182       0.932968                -0.718768\n",
      "4            1.856182      -0.012881                -0.611974\n"
     ]
    }
   ],
   "source": [
    "# 3.e - Take the data frame created in part (d) and apply data standardization to the features. \n",
    "import pandas as pd\n",
    "from sklearn.preprocessing import StandardScaler\n",
    "\n",
    "# file\n",
    "df = pd.read_csv(\"C:/Users/vampr/Desktop/calif_housing_data.csv\")\n",
    "\n",
    "num_entries = df['households'].count()\n",
    "df['bedrooms_to_entry_ratio'] = df['total_bedrooms'] / num_entries\n",
    "\n",
    "# new df\n",
    "new_df = df[['housing_median_age', 'median_income', 'bedrooms_to_entry_ratio']]\n",
    "\n",
    "# standardize\n",
    "scaler = StandardScaler()\n",
    "standardized_array = scaler.fit_transform(new_df)\n",
    "\n",
    "# standarize df\n",
    "standardized_df = pd.DataFrame(standardized_array, columns=new_df.columns)\n",
    "\n",
    "# results\n",
    "print(standardized_df.head())"
   ]
  },
  {
   "cell_type": "code",
   "execution_count": null,
   "id": "c2134b82-5c6b-41ef-9b7b-2a5900d29f92",
   "metadata": {},
   "outputs": [],
   "source": []
  }
 ],
 "metadata": {
  "kernelspec": {
   "display_name": "Python 3 (ipykernel)",
   "language": "python",
   "name": "python3"
  },
  "language_info": {
   "codemirror_mode": {
    "name": "ipython",
    "version": 3
   },
   "file_extension": ".py",
   "mimetype": "text/x-python",
   "name": "python",
   "nbconvert_exporter": "python",
   "pygments_lexer": "ipython3",
   "version": "3.11.4"
  }
 },
 "nbformat": 4,
 "nbformat_minor": 5
}
