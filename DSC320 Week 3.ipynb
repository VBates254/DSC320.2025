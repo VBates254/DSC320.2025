{
 "cells": [
  {
   "cell_type": "code",
   "execution_count": 1,
   "id": "3d776b12-2bd5-426d-ba91-2eafd9b5866a",
   "metadata": {},
   "outputs": [
    {
     "name": "stdout",
     "output_type": "stream",
     "text": [
      "f(2.9) = 38.178\n",
      "f(2.99) = 42.50179800000001\n",
      "f(2.999) = 42.95001799800001\n",
      "f(3.001) = 43.050018001999995\n",
      "f(3.01) = 43.50180199999999\n",
      "f(3.1) = 48.18200000000001\n"
     ]
    }
   ],
   "source": [
    "# Week 3\n",
    "# 1.a - Use Python code to evaluate the function f at appropriate values to calculate \n",
    "# lim x 3 f(x)\n",
    "import numpy as np\n",
    "\n",
    "# function\n",
    "def f(x):\n",
    "    return 2*x**3 - 4*x + 1  # funtion format\n",
    "\n",
    "# values\n",
    "x_values = np.array([2.9, 2.99, 2.999, 3.001, 3.01, 3.1])  \n",
    "f_values = f(x_values)  \n",
    "\n",
    "# results\n",
    "for x, fx in zip(x_values, f_values):\n",
    "    print(f\"f({x}) = {fx}\")"
   ]
  },
  {
   "cell_type": "code",
   "execution_count": 4,
   "id": "04b76abd-b7ea-4859-a421-3641616b8d80",
   "metadata": {},
   "outputs": [
    {
     "name": "stdout",
     "output_type": "stream",
     "text": [
      "g(-0.1) = 0.9516258196404048\n",
      "g(-0.01) = 0.9950166250831893\n",
      "g(-0.001) = 0.9995001666249781\n",
      "g(0.001) = 1.0005001667083846\n",
      "g(0.01) = 1.005016708416795\n",
      "g(0.1) = 1.0517091807564771\n"
     ]
    }
   ],
   "source": [
    "# Use Python code to evaluate the function g at appropriate values to calculate \n",
    "# lim x 0 g(x)\n",
    "import numpy as np\n",
    "\n",
    "# function g(x)\n",
    "def g(x):\n",
    "    return (np.exp(x) - 1) / x  # g(x) = (e^x - 1) / x\n",
    "\n",
    "# values\n",
    "x_values = np.array([-0.1, -0.01, -0.001, 0.001, 0.01, 0.1])  \n",
    "g_values = g(x_values)  \n",
    "\n",
    "# results\n",
    "for x, gx in zip(x_values, g_values):\n",
    "    print(f\"g({x}) = {gx}\")"
   ]
  },
  {
   "cell_type": "code",
   "execution_count": null,
   "id": "ac2eb4df-3dd9-432b-a00d-6e827b3c3602",
   "metadata": {},
   "outputs": [],
   "source": [
    "# 1.c - Could the limits in parts (a) and (b) be calculated by plugging in the value where the limit is taken\n",
    "# into the function? Explain. What does this mean in terms of continuity?\n",
    "\n",
    "# The limits cannot be directly subsituted in g(x), but they can in f(x). This means f(x) IS a continuous funtcion, but g(x) is not. \n",
    "# This is where I make a Means Girls joke because for g(x), the limit does not exist! Kidding - mostly. There might be a limit, but I'm not sure how \n",
    "# to go about finding it. Reading math textbooks makes me cross-eyed and sleepy.\n"
   ]
  },
  {
   "cell_type": "code",
   "execution_count": 10,
   "id": "48d9375e-302f-44b9-a517-54c99b353d6f",
   "metadata": {},
   "outputs": [
    {
     "name": "stdout",
     "output_type": "stream",
     "text": [
      "Average rate of change of f(x) = 3x² between x = 2 and x = 5 is 21.0000\n"
     ]
    }
   ],
   "source": [
    "# 2 -  Create a Python function that takes in a mathematical function, e.g., f(x) = 3x2 and two numbers a and b\n",
    "# and returns the average rate of change of the function between a and b.\n",
    "\n",
    "def average_rate_of_change(f, a, b):\n",
    "    if a == b:\n",
    "        raise ValueError(\"a and b must be different to compute rate of change.\")   \n",
    "    return (f(b) - f(a)) / (b - a)\n",
    "\n",
    "# example function\n",
    "def f(x):\n",
    "    return 3*x**2 \n",
    "\n",
    "a, b = 2, 5  # interval\n",
    "rate = average_rate_of_change(f, a, b)\n",
    "print(f\"Average rate of change of f(x) = 3x² between x = {a} and x = {b} is {rate:.4f}\")"
   ]
  },
  {
   "cell_type": "code",
   "execution_count": 12,
   "id": "1cdc836e-78f3-4562-a197-5c218a219397",
   "metadata": {},
   "outputs": [
    {
     "name": "stdout",
     "output_type": "stream",
     "text": [
      "Avg. speed between t = 5 and t = 6: 539.00 m/s\n"
     ]
    }
   ],
   "source": [
    "# 3 - A baseball is dropped from a tall cliff. Neglecting air resistance, the distance traveled by the baseball in meters after t seconds is given by \n",
    "# the function f(t) = 49t2.\n",
    "# 3.a - Find the average speed (average rate of change of distance) of the baseball between 5 and 6 seconds\n",
    "\n",
    "# function f(t)\n",
    "def f(t):\n",
    "    return 49 * t**2 \n",
    "\n",
    "# avg speed between t = 5 and t = 6\n",
    "a, b = 5, 6\n",
    "average_speed = (f(b) - f(a)) / (b - a)\n",
    "\n",
    "# results\n",
    "print(f\"Avg. speed between t = {a} and t = {b}: {average_speed:.2f} m/s\")\n"
   ]
  },
  {
   "cell_type": "code",
   "execution_count": 13,
   "id": "9b92d538-ce05-4cf4-920a-c19c7364bf3e",
   "metadata": {},
   "outputs": [
    {
     "name": "stdout",
     "output_type": "stream",
     "text": [
      "Avg. speed between t = 5 and t = 55: 2940.00 m/s\n"
     ]
    }
   ],
   "source": [
    "# 3.b - Find the average speed (average rate of change of distance) of the baseball between 5 and 55 seconds.\n",
    "# function f(t)\n",
    "def f(t):\n",
    "    return 49 * t**2 \n",
    "\n",
    "# avg speed between t = 5 and t = 55\n",
    "a, b = 5, 55\n",
    "average_speed = (f(b) - f(a)) / (b - a)\n",
    "\n",
    "# results\n",
    "print(f\"Avg. speed between t = {a} and t = {b}: {average_speed:.2f} m/s\")"
   ]
  },
  {
   "cell_type": "code",
   "execution_count": 14,
   "id": "ec9273ed-10b8-49ac-83c2-1e8a9bceba44",
   "metadata": {},
   "outputs": [
    {
     "name": "stdout",
     "output_type": "stream",
     "text": [
      "Avg. speed between t = 5 and t = 51: 2744.00 m/s\n"
     ]
    }
   ],
   "source": [
    "# 3.c - Find the average speed (average rate of change of distance) of the baseball between 5 and 51 seconds.\n",
    "# function f(t)\n",
    "def f(t):\n",
    "    return 49 * t**2\n",
    "\n",
    "# avg speed between t = 5 and t = 51\n",
    "a, b = 5, 51\n",
    "average_speed = (f(b) - f(a)) / (b - a)\n",
    "\n",
    "# results\n",
    "print(f\"Avg. speed between t = {a} and t = {b}: {average_speed:.2f} m/s\")"
   ]
  },
  {
   "cell_type": "code",
   "execution_count": 18,
   "id": "6e74871a-20c2-4a47-9100-963b88ee9201",
   "metadata": {},
   "outputs": [
    {
     "name": "stdout",
     "output_type": "stream",
     "text": [
      "Instantaneous speed at t = 5: 490.00 m/s\n"
     ]
    }
   ],
   "source": [
    "# 3.d - What is the instantaneous speed of the baseball at t = 5 seconds? \n",
    "# derivative function f'(t), f'(t) = 98t\n",
    "def derivative_f(t):\n",
    "    return 98 * t \n",
    "\n",
    "# instantaneous speed at t = 5\n",
    "t = 5\n",
    "instant_speed = derivative_f(t)\n",
    "\n",
    "# results\n",
    "print(f\"Instantaneous speed at t = {t}: {instant_speed:.2f} m/s\")"
   ]
  },
  {
   "cell_type": "code",
   "execution_count": 19,
   "id": "cbb08b4b-3f63-4f3c-aa1c-9adbec51c51b",
   "metadata": {},
   "outputs": [
    {
     "name": "stdout",
     "output_type": "stream",
     "text": [
      "Derivative of f(t):  \n",
      "98 x\n",
      "Instantaneous speed at t = 5: 490 m/s\n"
     ]
    }
   ],
   "source": [
    "# 3.e  - Find the derivative of f. \n",
    "import numpy as np\n",
    "\n",
    "# polynomial function f(t) = 49t^2, 49t^2 + 0t + 0\n",
    "coefficients = [49, 0, 0]  \n",
    "poly = np.poly1d(coefficients)\n",
    "\n",
    "# derivative\n",
    "derivative_poly = poly.deriv()\n",
    "\n",
    "# derivative at t = 5\n",
    "instant_speed = derivative_poly(5)\n",
    "\n",
    "# results\n",
    "print(f\"Derivative of f(t): {derivative_poly}\")\n",
    "print(f\"Instantaneous speed at t = 5: {instant_speed} m/s\")"
   ]
  },
  {
   "cell_type": "code",
   "execution_count": 22,
   "id": "79db85d8-7875-407e-894c-bb9fc0d969ff",
   "metadata": {},
   "outputs": [
    {
     "name": "stdout",
     "output_type": "stream",
     "text": [
      "Derivative of f(t):  \n",
      "98 x\n",
      "Instantaneous speed at t = 5: 490 m/s\n"
     ]
    }
   ],
   "source": [
    "# 3.f - Evaluate the derivative of f at t = 5. How does this value compare to the value found in part (d)?\n",
    "# Explain what is happening\n",
    "import numpy as np\n",
    "\n",
    "# polynomial function f(t) = 49t^2, 49t^2 + 0t + 0\n",
    "coefficients = [49, 0, 0] \n",
    "poly = np.poly1d(coefficients)\n",
    "\n",
    "# derivative\n",
    "derivative_poly = poly.deriv()\n",
    "\n",
    "# derivative at t = 5\n",
    "instant_speed = derivative_poly(5)\n",
    "\n",
    "# results\n",
    "print(f\"Derivative of f(t): {derivative_poly}\")\n",
    "print(f\"Instantaneous speed at t = 5: {instant_speed} m/s\")\n",
    "\n",
    "# They're the same value - I'm not sure how to fully explain what is happening. I understand python but honestly not math."
   ]
  },
  {
   "cell_type": "code",
   "execution_count": 23,
   "id": "174f192e-c01d-409c-9422-41afbec8927b",
   "metadata": {},
   "outputs": [
    {
     "name": "stdout",
     "output_type": "stream",
     "text": [
      "Predicted selling price: $26200.00\n"
     ]
    }
   ],
   "source": [
    "# 4 - A multivariate linear model is trained to predict the selling price of a particular used car model. The linear\n",
    "# model predicts the selling price (P) in US dollars, using its current condition (C) on a scale of 1 10 and\n",
    "# the age of the car in years (Y ). The model is given by\n",
    "# P =16000+2400C 1800Y.\n",
    "\n",
    "# 4.a - What is this models predicted selling price of a 5-year old car with a condition rating 8?\n",
    "\n",
    "# function for the linear model\n",
    "def predict_price(C, Y):\n",
    "    return 16000 + 2400 * C - 1800 * Y\n",
    "\n",
    "\n",
    "C = 8  # Condition rating\n",
    "Y = 5  # Age in years\n",
    "\n",
    "# predicted price\n",
    "predicted_price = predict_price(C, Y)\n",
    "\n",
    "# result\n",
    "print(f\"Predicted selling price: ${predicted_price:.2f}\")"
   ]
  },
  {
   "cell_type": "code",
   "execution_count": 27,
   "id": "4d97955c-aef7-4c8b-b7ab-78b21cce06a7",
   "metadata": {},
   "outputs": [
    {
     "name": "stdout",
     "output_type": "stream",
     "text": [
      "Partial derivative of P/C: 2400.00 USD per condition point/rating\n"
     ]
    }
   ],
   "source": [
    "# 4.b - Find P/C and interpret this value.\n",
    "import numpy as np\n",
    "\n",
    "# function P(C, Y)\n",
    "def P(C, Y):\n",
    "    return 16000 + 2400 * C - 1800 * Y\n",
    "\n",
    "# numerical derivative with respect to C\n",
    "C_values = np.array([7.9, 8.0, 8.1])  \n",
    "Y_fixed = 5 \n",
    "P_values = P(C_values, Y_fixed)\n",
    "\n",
    "# numerical derivative\n",
    "P_derivative_C = np.gradient(P_values, C_values)\n",
    "\n",
    "# result\n",
    "print(f\"Partial derivative of P/C: {P_derivative_C[1]:.2f} USD per condition point/rating\")\n",
    "\n",
    "# This means the price point should vary about $2,400 based on each point on the 1 - 10 scale. \n",
    "# So like, if that 8 rating went up to a 10, then the selling price would go up about $4,800"
   ]
  },
  {
   "cell_type": "code",
   "execution_count": 28,
   "id": "ca73a7fd-e156-4d5f-92c6-5c40ce2d247b",
   "metadata": {},
   "outputs": [
    {
     "name": "stdout",
     "output_type": "stream",
     "text": [
      "Partial derivative of P/Y: -1800.00 USD per year/age\n"
     ]
    }
   ],
   "source": [
    "# 4.c - Find P/Y and interpret this value.\n",
    "import numpy as np\n",
    "\n",
    "# function P(C, Y)\n",
    "def P(C, Y):\n",
    "    return 16000 + 2400 * C - 1800 * Y\n",
    "\n",
    "# numerical derivative with respect to Y\n",
    "Y_values = np.array([4.9, 5.0, 5.1]) \n",
    "C_fixed = 8  \n",
    "P_values = P(C_fixed, Y_values)\n",
    "\n",
    "# numerical derivative \n",
    "P_derivative_Y = np.gradient(P_values, Y_values)\n",
    "\n",
    "#  result\n",
    "print(f\"Partial derivative of P/Y: {P_derivative_Y[1]:.2f} USD per year/age\")\n",
    "# This means that for every year the car has on it, the value goes down by about $1,800. So if the car has a condition rating 8 (sitting at that "
   ]
  },
  {
   "cell_type": "code",
   "execution_count": null,
   "id": "53b37b1c-2278-46bc-961b-0ebe51d5b78e",
   "metadata": {},
   "outputs": [],
   "source": []
  }
 ],
 "metadata": {
  "kernelspec": {
   "display_name": "Python 3 (ipykernel)",
   "language": "python",
   "name": "python3"
  },
  "language_info": {
   "codemirror_mode": {
    "name": "ipython",
    "version": 3
   },
   "file_extension": ".py",
   "mimetype": "text/x-python",
   "name": "python",
   "nbconvert_exporter": "python",
   "pygments_lexer": "ipython3",
   "version": "3.11.4"
  }
 },
 "nbformat": 4,
 "nbformat_minor": 5
}
